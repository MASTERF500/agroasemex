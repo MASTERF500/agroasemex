{
 "cells": [
  {
   "cell_type": "code",
   "execution_count": 1,
   "metadata": {},
   "outputs": [],
   "source": [
    "#Sintaxis basica: Comentarios\n",
    "#Variables\n",
    "#Operadores de Asignacion\n",
    "#Operadores Aritmeticos\n",
    "#Cadenas y Variables\n",
    "#Condicionales\n",
    "#Ciclos\n",
    "#Estructuras de datos: Cadenas,Listas, Dicc, Tuplas\n",
    "#Listas & ciclos\n",
    "#Diccionarios & Ciclos\n",
    "#Subalgoritmos: Funciones y Procedimientos"
   ]
  },
  {
   "cell_type": "code",
   "execution_count": 8,
   "metadata": {},
   "outputs": [
    {
     "name": "stdout",
     "output_type": "stream",
     "text": [
      "\n",
      "cadena\n",
      "multilinea\n",
      "doble comilla\n",
      "\n",
      "Hola Mundo\n",
      "Hola\n",
      "Mundo\n"
     ]
    }
   ],
   "source": [
    "#Sintaxis basica:Comentarios\n",
    "#Imprimir todas las cadenas en pantalla.\n",
    "3\n",
    "'A'\n",
    "'cadena_alfaNum-1234@#'\n",
    "\"cadena doble comilla\"\n",
    "'''\n",
    "cadena multilinea\n",
    "hola mundo\n",
    "'''\n",
    "print(\"\"\"\n",
    "cadena\n",
    "multilinea\n",
    "doble comilla\n",
    "\"\"\")\n",
    "print('Hola Mundo')\n",
    "print('Hola\\nMundo')"
   ]
  },
  {
   "cell_type": "code",
   "execution_count": 10,
   "metadata": {},
   "outputs": [],
   "source": [
    "#Variables \n",
    "_a=500\n",
    "b1=500.01\n",
    "C='hola mundo!'\n",
    "e=True\n",
    "c=\"hola mundo!\"\n",
    "E=\"\"\"\n",
    "cadena\n",
    "multilinea\n",
    "hola mundo!\n",
    "\"\"\"\n",
    "#8F='hola mundo!'\n",
    "\n",
    "type(c)"
   ]
  },
  {
   "cell_type": "code",
   "execution_count": 13,
   "metadata": {},
   "outputs": [
    {
     "name": "stdout",
     "output_type": "stream",
     "text": [
      "1000.02\n"
     ]
    }
   ],
   "source": [
    "#Operadores Asignación&Aritméticos\n",
    "x=500\n",
    "x+=1\n",
    "x-=0.99\n",
    "x*=2\n",
    "print(x)"
   ]
  },
  {
   "cell_type": "code",
   "execution_count": 14,
   "metadata": {},
   "outputs": [
    {
     "data": {
      "text/plain": [
       "1000040.0004"
      ]
     },
     "execution_count": 14,
     "metadata": {},
     "output_type": "execute_result"
    }
   ],
   "source": [
    "y=2\n",
    "x+y\n",
    "x-y\n",
    "x*y\n",
    "x/y\n",
    "x**y"
   ]
  },
  {
   "cell_type": "code",
   "execution_count": 21,
   "metadata": {},
   "outputs": [
    {
     "data": {
      "text/plain": [
       "'Hola Mundo, Mi nombre es: Edwin Celestino'"
      ]
     },
     "execution_count": 21,
     "metadata": {},
     "output_type": "execute_result"
    }
   ],
   "source": [
    "#Cadenas y variables\n",
    "a='Mundo'\n",
    "b='Edwin Celestino'\n",
    "n=100\n",
    "'Hola'+'Mundo'\n",
    "'Hola'+a\n",
    "#'Precio: $'+n\n",
    "'Precio: $'+str(n)\n",
    "'Hola {}'.format(a)\n",
    "'Hola',a\n",
    "'Hola {}'.format(a)+' Mi nombre es: ',b\n",
    "'Hola {}, Mi nombre es: {}'.format(a,b)\n",
    "'Hola {0}, Mi nombre es: {1}'.format(a,b)\n",
    "'Hola {X}, Mi nombre es: {Y}'.format(X=a,Y=b)\n",
    "print(''.format())\n"
   ]
  },
  {
   "cell_type": "code",
   "execution_count": 24,
   "metadata": {},
   "outputs": [
    {
     "name": "stdout",
     "output_type": "stream",
     "text": [
      "20 es mayor que 10\n",
      "'a' es una variable entera.\n",
      "Verdadero\n"
     ]
    }
   ],
   "source": [
    "#Condicionales\n",
    "a=10\n",
    "b=20\n",
    "if(a<b):\n",
    "    print('{} es mayor que {}'.format(b,a))\n",
    "\n",
    "if(type(a)==int):\n",
    "    print('\\'a\\' es una variable entera.')\n",
    "\n",
    "    c=True\n",
    "if(c):\n",
    "    print('Verdadero')\n",
    "else:\n",
    "    print('Falso')"
   ]
  },
  {
   "cell_type": "code",
   "execution_count": 25,
   "metadata": {},
   "outputs": [
    {
     "name": "stdout",
     "output_type": "stream",
     "text": [
      "Char: h\n",
      "Char: o\n",
      "Char: l\n",
      "Char: a\n",
      "Char: _\n",
      "Char: m\n",
      "Char: u\n",
      "Char: n\n",
      "Char: d\n",
      "Char: o\n",
      "Char: !\n"
     ]
    }
   ],
   "source": [
    "#ciclos\n",
    "for iterador in 'hola_mundo!':\n",
    "    print('Char: {}'.format(iterador))"
   ]
  },
  {
   "cell_type": "code",
   "execution_count": 28,
   "metadata": {},
   "outputs": [
    {
     "name": "stdout",
     "output_type": "stream",
     "text": [
      "Num: 1\n",
      "Num: 2\n",
      "Num: 3\n",
      "Num: 4\n",
      "Num: 5\n",
      "Num: 6\n",
      "Num: 7\n",
      "Num: 8\n",
      "Num: 9\n",
      "Num: 10\n"
     ]
    }
   ],
   "source": [
    "flag=True\n",
    "cont=0\n",
    "while(flag):\n",
    "    cont+=1\n",
    "    print('Num: {}'.format(cont))\n",
    "    if(cont==10):\n",
    "        flag=False\n"
   ]
  },
  {
   "cell_type": "code",
   "execution_count": 44,
   "metadata": {},
   "outputs": [
    {
     "name": "stdout",
     "output_type": "stream",
     "text": [
      "30\n",
      "curso\n",
      "python\n"
     ]
    },
    {
     "data": {
      "text/plain": [
       "['Bienvenidos', 'al', 'curso', 'de', 'python']"
      ]
     },
     "execution_count": 44,
     "metadata": {},
     "output_type": "execute_result"
    }
   ],
   "source": [
    "#Estructuras de datos\n",
    "#Cadenas (Inmutables)\n",
    "a='Bienvenidos al curso de python'\n",
    "print(len(a))\n",
    "print(a[15:20])\n",
    "print(a[-6:])\n",
    "a.split()\n"
   ]
  },
  {
   "cell_type": "code",
   "execution_count": null,
   "metadata": {},
   "outputs": [],
   "source": []
  }
 ],
 "metadata": {
  "kernelspec": {
   "display_name": "Python 3",
   "language": "python",
   "name": "python3"
  },
  "language_info": {
   "codemirror_mode": {
    "name": "ipython",
    "version": 3
   },
   "file_extension": ".py",
   "mimetype": "text/x-python",
   "name": "python",
   "nbconvert_exporter": "python",
   "pygments_lexer": "ipython3",
   "version": "3.7.3"
  }
 },
 "nbformat": 4,
 "nbformat_minor": 2
}
