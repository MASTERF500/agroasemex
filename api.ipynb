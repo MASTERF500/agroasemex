{
 "cells": [
  {
   "cell_type": "code",
   "execution_count": 2,
   "metadata": {},
   "outputs": [],
   "source": [
    "import requests"
   ]
  },
  {
   "cell_type": "code",
   "execution_count": 4,
   "metadata": {},
   "outputs": [],
   "source": [
    "respuesta=requests.get('http://clima.inifap.gob.mx/cenid/api/Estacion?')"
   ]
  },
  {
   "cell_type": "code",
   "execution_count": 5,
   "metadata": {},
   "outputs": [
    {
     "data": {
      "text/plain": [
       "200"
      ]
     },
     "execution_count": 5,
     "metadata": {},
     "output_type": "execute_result"
    }
   ],
   "source": [
    "respuesta.status_code"
   ]
  },
  {
   "cell_type": "code",
   "execution_count": 6,
   "metadata": {},
   "outputs": [],
   "source": [
    "dic=respuesta.json()"
   ]
  },
  {
   "cell_type": "code",
   "execution_count": 7,
   "metadata": {},
   "outputs": [
    {
     "data": {
      "text/plain": [
       "{'estados': [{'Indice': 1, 'Nombre': 'Aguascalientes'},\n",
       "  {'Indice': 2, 'Nombre': 'Baja California'},\n",
       "  {'Indice': 3, 'Nombre': 'Baja California Sur'},\n",
       "  {'Indice': 4, 'Nombre': 'Campeche'},\n",
       "  {'Indice': 5, 'Nombre': 'Coahuila'},\n",
       "  {'Indice': 6, 'Nombre': 'Colima'},\n",
       "  {'Indice': 7, 'Nombre': 'Chiapas'},\n",
       "  {'Indice': 8, 'Nombre': 'Chihuahua'},\n",
       "  {'Indice': 9, 'Nombre': 'Durango'},\n",
       "  {'Indice': 10, 'Nombre': 'Estado de México'},\n",
       "  {'Indice': 11, 'Nombre': 'Guanajuato'},\n",
       "  {'Indice': 12, 'Nombre': 'Guerrero'},\n",
       "  {'Indice': 13, 'Nombre': 'Hidalgo'},\n",
       "  {'Indice': 14, 'Nombre': 'Jalisco'},\n",
       "  {'Indice': 15, 'Nombre': 'Michoacán'},\n",
       "  {'Indice': 16, 'Nombre': 'Morelos'},\n",
       "  {'Indice': 17, 'Nombre': 'Nayarit'},\n",
       "  {'Indice': 18, 'Nombre': 'Nuevo León'},\n",
       "  {'Indice': 19, 'Nombre': 'Oaxaca'},\n",
       "  {'Indice': 20, 'Nombre': 'Puebla'},\n",
       "  {'Indice': 21, 'Nombre': 'Querétaro'},\n",
       "  {'Indice': 22, 'Nombre': 'Quintana Roo'},\n",
       "  {'Indice': 23, 'Nombre': 'San Luis Potosí'},\n",
       "  {'Indice': 24, 'Nombre': 'Sinaloa'},\n",
       "  {'Indice': 25, 'Nombre': 'Sonora'},\n",
       "  {'Indice': 26, 'Nombre': 'Tabasco'},\n",
       "  {'Indice': 27, 'Nombre': 'Tamaulipas'},\n",
       "  {'Indice': 28, 'Nombre': 'Tlaxcala'},\n",
       "  {'Indice': 29, 'Nombre': 'Veracruz'},\n",
       "  {'Indice': 30, 'Nombre': 'Yucatán'},\n",
       "  {'Indice': 31, 'Nombre': 'Zacatecas'},\n",
       "  {'Indice': 32, 'Nombre': 'Distrito Federal'}]}"
      ]
     },
     "execution_count": 7,
     "metadata": {},
     "output_type": "execute_result"
    }
   ],
   "source": [
    "dic"
   ]
  },
  {
   "cell_type": "code",
   "execution_count": 8,
   "metadata": {},
   "outputs": [
    {
     "data": {
      "text/plain": [
       "{'Indice': 1, 'Nombre': 'Aguascalientes'}"
      ]
     },
     "execution_count": 8,
     "metadata": {},
     "output_type": "execute_result"
    }
   ],
   "source": [
    "dic['estados'][0]"
   ]
  },
  {
   "cell_type": "code",
   "execution_count": 9,
   "metadata": {},
   "outputs": [
    {
     "data": {
      "text/plain": [
       "'Aguascalientes'"
      ]
     },
     "execution_count": 9,
     "metadata": {},
     "output_type": "execute_result"
    }
   ],
   "source": [
    "dic['estados'][0]['Nombre']"
   ]
  },
  {
   "cell_type": "code",
   "execution_count": null,
   "metadata": {},
   "outputs": [],
   "source": []
  }
 ],
 "metadata": {
  "kernelspec": {
   "display_name": "Python 3",
   "language": "python",
   "name": "python3"
  },
  "language_info": {
   "codemirror_mode": {
    "name": "ipython",
    "version": 3
   },
   "file_extension": ".py",
   "mimetype": "text/x-python",
   "name": "python",
   "nbconvert_exporter": "python",
   "pygments_lexer": "ipython3",
   "version": "3.7.3"
  }
 },
 "nbformat": 4,
 "nbformat_minor": 2
}
