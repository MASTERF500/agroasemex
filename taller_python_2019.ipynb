{
 "cells": [
  {
   "cell_type": "code",
   "execution_count": 5,
   "metadata": {},
   "outputs": [
    {
     "name": "stdout",
     "output_type": "stream",
     "text": [
      "hola mundo\n"
     ]
    }
   ],
   "source": [
    "print('hola mundo')"
   ]
  },
  {
   "cell_type": "code",
   "execution_count": 9,
   "metadata": {},
   "outputs": [
    {
     "data": {
      "text/plain": [
       "' \\nhola\\nmundo\\n'"
      ]
     },
     "execution_count": 9,
     "metadata": {},
     "output_type": "execute_result"
    }
   ],
   "source": [
    "#mi primer codigo con python\n",
    "'hola mundo'\n",
    "\"hola mundo\"\n",
    "''' \n",
    "hola\n",
    "mundo\n",
    "'''"
   ]
  },
  {
   "cell_type": "code",
   "execution_count": 12,
   "metadata": {},
   "outputs": [
    {
     "name": "stdout",
     "output_type": "stream",
     "text": [
      " \n",
      "hola\n",
      "mundo\n",
      "\n"
     ]
    }
   ],
   "source": [
    "print(''' \n",
    "hola\n",
    "mundo\n",
    "''')"
   ]
  },
  {
   "cell_type": "code",
   "execution_count": 28,
   "metadata": {},
   "outputs": [],
   "source": [
    "a=500\n",
    "b=3.1416\n",
    "c='holaMundo1234'\n",
    "d=False"
   ]
  },
  {
   "cell_type": "code",
   "execution_count": 16,
   "metadata": {},
   "outputs": [
    {
     "name": "stdout",
     "output_type": "stream",
     "text": [
      "<class 'int'>\n",
      "<class 'float'>\n"
     ]
    }
   ],
   "source": [
    "print(type(_a))\n",
    "print(type(b3))"
   ]
  },
  {
   "cell_type": "code",
   "execution_count": 17,
   "metadata": {},
   "outputs": [],
   "source": [
    "a=10"
   ]
  },
  {
   "cell_type": "code",
   "execution_count": 19,
   "metadata": {},
   "outputs": [],
   "source": [
    "#a=a+10\n",
    "a+=10"
   ]
  },
  {
   "cell_type": "code",
   "execution_count": 20,
   "metadata": {},
   "outputs": [
    {
     "name": "stdout",
     "output_type": "stream",
     "text": [
      "20\n"
     ]
    }
   ],
   "source": [
    "print(a)"
   ]
  },
  {
   "cell_type": "code",
   "execution_count": 21,
   "metadata": {},
   "outputs": [
    {
     "name": "stdout",
     "output_type": "stream",
     "text": [
      "15\n"
     ]
    }
   ],
   "source": [
    "a-=5\n",
    "print(a)"
   ]
  },
  {
   "cell_type": "code",
   "execution_count": 22,
   "metadata": {},
   "outputs": [
    {
     "name": "stdout",
     "output_type": "stream",
     "text": [
      "30\n"
     ]
    }
   ],
   "source": [
    "a*=2\n",
    "print(a)"
   ]
  },
  {
   "cell_type": "code",
   "execution_count": 23,
   "metadata": {},
   "outputs": [
    {
     "name": "stdout",
     "output_type": "stream",
     "text": [
      "6.0\n"
     ]
    }
   ],
   "source": [
    "a/=5\n"
   ]
  },
  {
   "cell_type": "code",
   "execution_count": 24,
   "metadata": {},
   "outputs": [
    {
     "name": "stdout",
     "output_type": "stream",
     "text": [
      "<class 'float'>\n"
     ]
    }
   ],
   "source": [
    "print(type(a))"
   ]
  },
  {
   "cell_type": "code",
   "execution_count": 26,
   "metadata": {},
   "outputs": [
    {
     "name": "stdout",
     "output_type": "stream",
     "text": [
      "503.1416\n"
     ]
    }
   ],
   "source": [
    "print(a+b)"
   ]
  },
  {
   "cell_type": "code",
   "execution_count": 30,
   "metadata": {},
   "outputs": [
    {
     "name": "stdout",
     "output_type": "stream",
     "text": [
      "R=  496.8584 503.1416\n"
     ]
    }
   ],
   "source": [
    "print('R= ',a-b, a+b)"
   ]
  },
  {
   "cell_type": "code",
   "execution_count": 33,
   "metadata": {},
   "outputs": [
    {
     "data": {
      "text/plain": [
       "'hola500'"
      ]
     },
     "execution_count": 33,
     "metadata": {},
     "output_type": "execute_result"
    }
   ],
   "source": [
    "'hola'+str(a)"
   ]
  },
  {
   "cell_type": "code",
   "execution_count": 61,
   "metadata": {},
   "outputs": [],
   "source": [
    "a='Mundo'\n",
    "b='!'\n",
    "n=3000\n",
    "f='Edwin Celestino'\n",
    "r='A'"
   ]
  },
  {
   "cell_type": "code",
   "execution_count": 70,
   "metadata": {},
   "outputs": [
    {
     "name": "stdout",
     "output_type": "stream",
     "text": [
      "Hola Mundo! Edwin Celestino\n"
     ]
    }
   ],
   "source": [
    "print('Hola {}{} {}'.format(a,b,f))"
   ]
  },
  {
   "cell_type": "code",
   "execution_count": 71,
   "metadata": {},
   "outputs": [
    {
     "name": "stdout",
     "output_type": "stream",
     "text": [
      "Hola Mundo! Edwin Celestino\n"
     ]
    }
   ],
   "source": [
    "print('Hola {1}{0} {2}'.format(b,a,f))"
   ]
  },
  {
   "cell_type": "code",
   "execution_count": 72,
   "metadata": {},
   "outputs": [
    {
     "name": "stdout",
     "output_type": "stream",
     "text": [
      "Hola Mundo!\n"
     ]
    }
   ],
   "source": [
    "print('Hola {X}{M}'.format(X=a,M=b))"
   ]
  },
  {
   "cell_type": "code",
   "execution_count": 66,
   "metadata": {},
   "outputs": [],
   "source": [
    "cadena='Hola {}{} {}'.format(b,a,f)"
   ]
  },
  {
   "cell_type": "code",
   "execution_count": 68,
   "metadata": {},
   "outputs": [
    {
     "name": "stdout",
     "output_type": "stream",
     "text": [
      "Hola !Mundo Edwin Celestino extra cadena\n"
     ]
    }
   ],
   "source": [
    "print(cadena+' {}'.format('extra cadena'))"
   ]
  },
  {
   "cell_type": "code",
   "execution_count": 79,
   "metadata": {},
   "outputs": [],
   "source": [
    "x=10\n",
    "y=15\n",
    "sum2=x+y\n",
    "rest=x-y"
   ]
  },
  {
   "cell_type": "code",
   "execution_count": 83,
   "metadata": {},
   "outputs": [
    {
     "name": "stdout",
     "output_type": "stream",
     "text": [
      "RSUMA= 25, RREST=-5 \n"
     ]
    }
   ],
   "source": [
    "print('RSUMA= {}, RREST={} '.format(x+y,x-y))"
   ]
  },
  {
   "cell_type": "code",
   "execution_count": 84,
   "metadata": {},
   "outputs": [
    {
     "data": {
      "text/plain": [
       "\"\\nVariables:\\nEntera: 33293 <class 'int'>\\nCadena: Hola Mundo <class 'str'>\\nReal: 3.1416 <class 'float'>\\nBooleana: True <class 'bool'>\\n\\nOperadores:\\n50x30= 1500\\n50/30= 1.6666\\n50-30= 20\\n50+30= 80\\n5**3= 125\\n\\nR= A:1500,B:1.66…,C:20,D:80 y E:125\\n\""
      ]
     },
     "execution_count": 84,
     "metadata": {},
     "output_type": "execute_result"
    }
   ],
   "source": [
    "\"\"\"\n",
    "Variables:\n",
    "Entera: 33293 <class 'int'>\n",
    "Cadena: Hola Mundo <class 'str'>\n",
    "Real: 3.1416 <class 'float'>\n",
    "Booleana: True <class 'bool'>\n",
    "\n",
    "Operadores:\n",
    "50x30= 1500\n",
    "50/30= 1.6666\n",
    "50-30= 20\n",
    "50+30= 80\n",
    "5**3= 125\n",
    "\n",
    "R= A:1500,B:1.66…,C:20,D:80 y E:125\n",
    "\n",
    "\"\"\""
   ]
  },
  {
   "cell_type": "code",
   "execution_count": 100,
   "metadata": {},
   "outputs": [
    {
     "name": "stdout",
     "output_type": "stream",
     "text": [
      "\n",
      "Variables:\n",
      "Entera: 33293 <class 'int'>\n",
      "Cadena: Hola Mundo <class 'str'>\n",
      "Real: 3.1416 <class 'float'>\n",
      "Booleana: False <class 'bool'>\n",
      "\n",
      "Operadores:\n",
      "50x30=1500\n",
      "50/30=1.6666666666666667\n",
      "50+30=80\n",
      "50-30=20\n",
      "5**3=125\n",
      "\n",
      "RM=1500,RD=1.6666666666666667,RS=80,RR=20,RE=125\n"
     ]
    }
   ],
   "source": [
    "a=33293\n",
    "b='Hola Mundo'\n",
    "c=3.1416\n",
    "d=False\n",
    "cadena1='''\n",
    "Variables:\n",
    "Entera: {} {}\n",
    "Cadena: {} {}\n",
    "Real: {} {}\n",
    "Booleana: {} {}\n",
    "'''.format(a,type(a),b,type(b),c,type(c),d,type(d))\n",
    "\n",
    "x=50\n",
    "y=30\n",
    "mult=x*y\n",
    "div=x/y\n",
    "sum2=x+y\n",
    "rest=x-y\n",
    "cadena2='''\n",
    "Operadores:\n",
    "{A}x{B}={C}\n",
    "{A}/{B}={D}\n",
    "{A}+{B}={E}\n",
    "{A}-{B}={F}\n",
    "5**3={I}\n",
    "'''.format(A=x,B=y,C=mult,D=div,E=sum2,F=rest,I=5**3)\n",
    "\n",
    "cadena3='\\nRM={},RD={},RS={},RR={},RE={}'.format(mult,div,sum2,rest,5**3)\n",
    "print(cadena1+cadena2+cadena3)\n",
    "\n"
   ]
  },
  {
   "cell_type": "code",
   "execution_count": 104,
   "metadata": {},
   "outputs": [
    {
     "name": "stdout",
     "output_type": "stream",
     "text": [
      "30 es mayor que 20\n",
      "20 no es mayor que 30\n",
      "primer nivel completado\n",
      "40.5 es mayor que 30\n"
     ]
    }
   ],
   "source": [
    "A=30\n",
    "B=20\n",
    "C=40.5\n",
    "if A>B:\n",
    "    print(str(A)+' es mayor que '+str(B))\n",
    "\n",
    "if B>A:\n",
    "    print(str(A)+' es mayor que '+str(B))\n",
    "else:\n",
    "    print(str(B)+' no es mayor que '+str(A))\n",
    "\n",
    "if A>B:\n",
    "    print('primer nivel completado')\n",
    "    if C>A:\n",
    "        print(str(C)+' es mayor que '+str(A))"
   ]
  },
  {
   "cell_type": "code",
   "execution_count": 121,
   "metadata": {},
   "outputs": [
    {
     "name": "stdout",
     "output_type": "stream",
     "text": [
      "inicie\n",
      "voy a la mitad\n",
      "ya finalice\n"
     ]
    }
   ],
   "source": [
    "#cadena='hola_mundo!'\n",
    "#x=range(1,1001)\n",
    "ar=[0,1,2,3,4,5,6,7,8,9,10]\n",
    "\n",
    "for i in ar:\n",
    "    if(i==0):\n",
    "        print('inicie')\n",
    "    if(i==5):\n",
    "        print('voy a la mitad')\n",
    "    if(i==10):\n",
    "        print('ya finalice')\n",
    "\n",
    "#for i in 'hola_mundo!':\n",
    "#    print('Char: ', i)\n",
    "\n"
   ]
  },
  {
   "cell_type": "code",
   "execution_count": 123,
   "metadata": {},
   "outputs": [
    {
     "name": "stdout",
     "output_type": "stream",
     "text": [
      "1\n",
      "2\n",
      "3\n",
      "4\n",
      "5\n",
      "6\n",
      "7\n",
      "8\n",
      "9\n",
      "10\n",
      "11\n",
      "12\n",
      "13\n",
      "14\n",
      "15\n",
      "16\n",
      "17\n",
      "18\n",
      "19\n",
      "20\n",
      "21\n",
      "22\n",
      "23\n",
      "24\n",
      "25\n",
      "26\n",
      "27\n",
      "28\n",
      "29\n",
      "30\n",
      "31\n",
      "32\n",
      "33\n",
      "34\n",
      "35\n",
      "36\n",
      "37\n",
      "38\n",
      "39\n",
      "40\n",
      "41\n",
      "42\n",
      "43\n",
      "44\n",
      "45\n",
      "46\n",
      "47\n",
      "48\n",
      "49\n",
      "50\n",
      "51\n",
      "52\n",
      "53\n",
      "54\n",
      "55\n",
      "56\n",
      "57\n",
      "58\n",
      "59\n",
      "60\n",
      "61\n",
      "62\n",
      "63\n",
      "64\n",
      "65\n",
      "66\n",
      "67\n",
      "68\n",
      "69\n",
      "70\n",
      "71\n",
      "72\n",
      "73\n",
      "74\n",
      "75\n",
      "76\n",
      "77\n",
      "78\n",
      "79\n",
      "80\n",
      "81\n",
      "82\n",
      "83\n",
      "84\n",
      "85\n",
      "86\n",
      "87\n",
      "88\n",
      "89\n",
      "90\n",
      "91\n",
      "92\n",
      "93\n",
      "94\n",
      "95\n",
      "96\n",
      "97\n",
      "98\n",
      "99\n",
      "100\n"
     ]
    }
   ],
   "source": [
    "flag=True\n",
    "cont=0\n",
    "while(flag==True):\n",
    "    cont+=1\n",
    "    print(cont)\n",
    "    if(cont==100):\n",
    "        flag=False"
   ]
  },
  {
   "cell_type": "code",
   "execution_count": 126,
   "metadata": {},
   "outputs": [
    {
     "data": {
      "text/plain": [
       "'Edwin'"
      ]
     },
     "execution_count": 126,
     "metadata": {},
     "output_type": "execute_result"
    }
   ],
   "source": [
    "nombre='Edwin Celestino García Alcocer'\n",
    "nombre[0]\n",
    "len(nombre)\n",
    "nombre[0:5]"
   ]
  },
  {
   "cell_type": "code",
   "execution_count": 127,
   "metadata": {},
   "outputs": [
    {
     "data": {
      "text/plain": [
       "'Edwin Celestino García Alcocer'"
      ]
     },
     "execution_count": 127,
     "metadata": {},
     "output_type": "execute_result"
    }
   ],
   "source": [
    "nombre[:]"
   ]
  },
  {
   "cell_type": "code",
   "execution_count": 128,
   "metadata": {},
   "outputs": [
    {
     "data": {
      "text/plain": [
       "'Alcocer'"
      ]
     },
     "execution_count": 128,
     "metadata": {},
     "output_type": "execute_result"
    }
   ],
   "source": [
    "nombre[-7:]"
   ]
  },
  {
   "cell_type": "code",
   "execution_count": 132,
   "metadata": {},
   "outputs": [
    {
     "data": {
      "text/plain": [
       "'Celestino'"
      ]
     },
     "execution_count": 132,
     "metadata": {},
     "output_type": "execute_result"
    }
   ],
   "source": [
    "nombre[6:15]"
   ]
  },
  {
   "cell_type": "code",
   "execution_count": 131,
   "metadata": {},
   "outputs": [
    {
     "data": {
      "text/plain": [
       "['Edwin', 'Celestino', 'García', 'Alcocer']"
      ]
     },
     "execution_count": 131,
     "metadata": {},
     "output_type": "execute_result"
    }
   ],
   "source": [
    "nombre.split()"
   ]
  },
  {
   "cell_type": "code",
   "execution_count": 134,
   "metadata": {},
   "outputs": [],
   "source": [
    "nombre=nombre.split()"
   ]
  },
  {
   "cell_type": "code",
   "execution_count": 135,
   "metadata": {},
   "outputs": [
    {
     "data": {
      "text/plain": [
       "['Edwin', 'Celestino', 'García', 'Alcocer']"
      ]
     },
     "execution_count": 135,
     "metadata": {},
     "output_type": "execute_result"
    }
   ],
   "source": [
    "nombre"
   ]
  },
  {
   "cell_type": "code",
   "execution_count": 138,
   "metadata": {},
   "outputs": [
    {
     "data": {
      "text/plain": [
       "'CelestinoCelestinoCelestino'"
      ]
     },
     "execution_count": 138,
     "metadata": {},
     "output_type": "execute_result"
    }
   ],
   "source": [
    "nombre[1]+nombre[1]+nombre[1]"
   ]
  },
  {
   "cell_type": "code",
   "execution_count": 139,
   "metadata": {},
   "outputs": [
    {
     "data": {
      "text/plain": [
       "'CelestinoCelestinoCelestino'"
      ]
     },
     "execution_count": 139,
     "metadata": {},
     "output_type": "execute_result"
    }
   ],
   "source": [
    "nombre[1]*3"
   ]
  },
  {
   "cell_type": "code",
   "execution_count": 140,
   "metadata": {},
   "outputs": [
    {
     "data": {
      "text/plain": [
       "'holaholahola'"
      ]
     },
     "execution_count": 140,
     "metadata": {},
     "output_type": "execute_result"
    }
   ],
   "source": [
    "'hola'*3"
   ]
  },
  {
   "cell_type": "code",
   "execution_count": 142,
   "metadata": {},
   "outputs": [
    {
     "data": {
      "text/plain": [
       "'celestino'"
      ]
     },
     "execution_count": 142,
     "metadata": {},
     "output_type": "execute_result"
    }
   ],
   "source": [
    "nombre[1].lower()"
   ]
  },
  {
   "cell_type": "code",
   "execution_count": 146,
   "metadata": {},
   "outputs": [],
   "source": [
    "nombre='Edwin Celestino Alcocer Alcocer'"
   ]
  },
  {
   "cell_type": "code",
   "execution_count": 148,
   "metadata": {},
   "outputs": [
    {
     "data": {
      "text/plain": [
       "3"
      ]
     },
     "execution_count": 148,
     "metadata": {},
     "output_type": "execute_result"
    }
   ],
   "source": [
    "nombre.count('o')"
   ]
  },
  {
   "cell_type": "code",
   "execution_count": 155,
   "metadata": {},
   "outputs": [],
   "source": [
    "lst=[13,3.141,True,'Hola mundo!']\n",
    "lstN=[32,13,33,45,2,24,68]\n",
    "lstD=[13,33,45,[1,2,3]]"
   ]
  },
  {
   "cell_type": "code",
   "execution_count": 150,
   "metadata": {},
   "outputs": [],
   "source": [
    "lst.append('edwin c')"
   ]
  },
  {
   "cell_type": "code",
   "execution_count": 151,
   "metadata": {},
   "outputs": [
    {
     "data": {
      "text/plain": [
       "[13, 3.141, True, 'Hola mundo!', 'edwin c']"
      ]
     },
     "execution_count": 151,
     "metadata": {},
     "output_type": "execute_result"
    }
   ],
   "source": [
    "lst"
   ]
  },
  {
   "cell_type": "code",
   "execution_count": 152,
   "metadata": {},
   "outputs": [
    {
     "data": {
      "text/plain": [
       "'Hola mundo!'"
      ]
     },
     "execution_count": 152,
     "metadata": {},
     "output_type": "execute_result"
    }
   ],
   "source": [
    "lst[3]"
   ]
  },
  {
   "cell_type": "code",
   "execution_count": 153,
   "metadata": {},
   "outputs": [],
   "source": [
    "lst.insert(3,'xyz')"
   ]
  },
  {
   "cell_type": "code",
   "execution_count": 154,
   "metadata": {},
   "outputs": [
    {
     "data": {
      "text/plain": [
       "[13, 3.141, True, 'xyz', 'Hola mundo!', 'edwin c']"
      ]
     },
     "execution_count": 154,
     "metadata": {},
     "output_type": "execute_result"
    }
   ],
   "source": [
    "lst"
   ]
  },
  {
   "cell_type": "code",
   "execution_count": 157,
   "metadata": {},
   "outputs": [],
   "source": [
    "lstN.sort()"
   ]
  },
  {
   "cell_type": "code",
   "execution_count": 158,
   "metadata": {},
   "outputs": [
    {
     "data": {
      "text/plain": [
       "[2, 13, 24, 32, 33, 45, 68]"
      ]
     },
     "execution_count": 158,
     "metadata": {},
     "output_type": "execute_result"
    }
   ],
   "source": [
    "lstN"
   ]
  },
  {
   "cell_type": "code",
   "execution_count": 159,
   "metadata": {},
   "outputs": [],
   "source": [
    "lstN.reverse()"
   ]
  },
  {
   "cell_type": "code",
   "execution_count": 160,
   "metadata": {},
   "outputs": [
    {
     "data": {
      "text/plain": [
       "[68, 45, 33, 32, 24, 13, 2]"
      ]
     },
     "execution_count": 160,
     "metadata": {},
     "output_type": "execute_result"
    }
   ],
   "source": [
    "lstN"
   ]
  },
  {
   "cell_type": "code",
   "execution_count": 165,
   "metadata": {},
   "outputs": [
    {
     "data": {
      "text/plain": [
       "45"
      ]
     },
     "execution_count": 165,
     "metadata": {},
     "output_type": "execute_result"
    }
   ],
   "source": [
    "lstN.pop(1)"
   ]
  },
  {
   "cell_type": "code",
   "execution_count": 166,
   "metadata": {},
   "outputs": [
    {
     "data": {
      "text/plain": [
       "[68, 33, 32, 24]"
      ]
     },
     "execution_count": 166,
     "metadata": {},
     "output_type": "execute_result"
    }
   ],
   "source": [
    "lstN"
   ]
  },
  {
   "cell_type": "code",
   "execution_count": 167,
   "metadata": {},
   "outputs": [],
   "source": [
    "lstN.clear()"
   ]
  },
  {
   "cell_type": "code",
   "execution_count": 168,
   "metadata": {},
   "outputs": [
    {
     "data": {
      "text/plain": [
       "[]"
      ]
     },
     "execution_count": 168,
     "metadata": {},
     "output_type": "execute_result"
    }
   ],
   "source": [
    "lstN"
   ]
  },
  {
   "cell_type": "code",
   "execution_count": 169,
   "metadata": {},
   "outputs": [],
   "source": [
    "lstAlterna=lst.copy()"
   ]
  },
  {
   "cell_type": "code",
   "execution_count": 170,
   "metadata": {},
   "outputs": [
    {
     "data": {
      "text/plain": [
       "[13, 3.141, True, 'Hola mundo!']"
      ]
     },
     "execution_count": 170,
     "metadata": {},
     "output_type": "execute_result"
    }
   ],
   "source": [
    "lstAlterna"
   ]
  },
  {
   "cell_type": "code",
   "execution_count": 171,
   "metadata": {},
   "outputs": [],
   "source": [
    "lista=['M','X','Z','A']\n",
    "listaDat=[13,33,45,68]\n",
    "listaAnid=[13,33,45,68,45,[1,2,3]]"
   ]
  },
  {
   "cell_type": "code",
   "execution_count": 185,
   "metadata": {},
   "outputs": [],
   "source": [
    "listaAnid[5].append(6)"
   ]
  },
  {
   "cell_type": "code",
   "execution_count": 186,
   "metadata": {},
   "outputs": [
    {
     "data": {
      "text/plain": [
       "[13, 33, 45, 68, 45, [4, 5, 6]]"
      ]
     },
     "execution_count": 186,
     "metadata": {},
     "output_type": "execute_result"
    }
   ],
   "source": [
    "listaAnid"
   ]
  },
  {
   "cell_type": "code",
   "execution_count": 188,
   "metadata": {},
   "outputs": [],
   "source": [
    "listaDat.append(lista)"
   ]
  },
  {
   "cell_type": "code",
   "execution_count": 189,
   "metadata": {},
   "outputs": [
    {
     "data": {
      "text/plain": [
       "[13, 33, 45, 68, ['M', 'X', 'Z', 'A']]"
      ]
     },
     "execution_count": 189,
     "metadata": {},
     "output_type": "execute_result"
    }
   ],
   "source": [
    "listaDat"
   ]
  },
  {
   "cell_type": "code",
   "execution_count": 191,
   "metadata": {},
   "outputs": [
    {
     "data": {
      "text/plain": [
       "'Z'"
      ]
     },
     "execution_count": 191,
     "metadata": {},
     "output_type": "execute_result"
    }
   ],
   "source": [
    "listaDat[4][2]"
   ]
  },
  {
   "cell_type": "code",
   "execution_count": 192,
   "metadata": {},
   "outputs": [],
   "source": [
    "listaAnid.append(listaDat)"
   ]
  },
  {
   "cell_type": "code",
   "execution_count": 193,
   "metadata": {},
   "outputs": [
    {
     "data": {
      "text/plain": [
       "[13, 33, 45, 68, 45, [4, 5, 6], [13, 33, 45, 68, ['M', 'X', 'Z', 'A']]]"
      ]
     },
     "execution_count": 193,
     "metadata": {},
     "output_type": "execute_result"
    }
   ],
   "source": [
    "listaAnid"
   ]
  },
  {
   "cell_type": "code",
   "execution_count": 203,
   "metadata": {},
   "outputs": [],
   "source": [
    "listaAnid[6][4].insert(1,'W')"
   ]
  },
  {
   "cell_type": "code",
   "execution_count": 204,
   "metadata": {},
   "outputs": [
    {
     "data": {
      "text/plain": [
       "[13, 33, 45, 68, 45, [4, 5, 6], [13, 33, 45, 68, ['M', 'W', 'Z', 'A']]]"
      ]
     },
     "execution_count": 204,
     "metadata": {},
     "output_type": "execute_result"
    }
   ],
   "source": [
    "listaAnid"
   ]
  },
  {
   "cell_type": "code",
   "execution_count": 209,
   "metadata": {},
   "outputs": [],
   "source": [
    "from ftplib import FTP\n",
    "import pandas as pd"
   ]
  },
  {
   "cell_type": "code",
   "execution_count": 210,
   "metadata": {},
   "outputs": [
    {
     "data": {
      "text/plain": [
       "'230 Logged on'"
      ]
     },
     "execution_count": 210,
     "metadata": {},
     "output_type": "execute_result"
    }
   ],
   "source": [
    "ftp=FTP('clima.inifap.gob.mx')\n",
    "ftp.login('talleragroasemex','agroasemex5.')"
   ]
  },
  {
   "cell_type": "code",
   "execution_count": 211,
   "metadata": {},
   "outputs": [
    {
     "name": "stdout",
     "output_type": "stream",
     "text": [
      "-rw-r--r-- 1 ftp ftp          37496 Oct 14 01:59 Don_primo_2019-10-13.csv\n",
      "-rw-r--r-- 1 ftp ftp          37594 Oct 21 02:00 Don_primo_2019-10-20.csv\n",
      "-rw-r--r-- 1 ftp ftp          40419 Oct 23 17:27 Don_primo_2019-10-22.csv\n",
      "-rw-r--r-- 1 ftp ftp          37689 Oct 14 01:59 Santa_Teresa_2019-10-13.csv\n",
      "-rw-r--r-- 1 ftp ftp          37756 Oct 21 02:00 Santa_Teresa_2019-10-20.csv\n"
     ]
    }
   ],
   "source": [
    "ftp.dir()"
   ]
  },
  {
   "cell_type": "code",
   "execution_count": 213,
   "metadata": {},
   "outputs": [],
   "source": [
    "with open('Santa_Teresa_2019-10-13.csv','wb') as i:\n",
    "    ftp.retrbinary('RETR Santa_Teresa_2019-10-13.csv',i.write)"
   ]
  },
  {
   "cell_type": "code",
   "execution_count": 214,
   "metadata": {},
   "outputs": [
    {
     "data": {
      "text/plain": [
       "'221 Goodbye'"
      ]
     },
     "execution_count": 214,
     "metadata": {},
     "output_type": "execute_result"
    }
   ],
   "source": [
    "ftp.quit()"
   ]
  },
  {
   "cell_type": "code",
   "execution_count": 215,
   "metadata": {},
   "outputs": [],
   "source": [
    "dt=pd.read_csv('Santa_Teresa_2019-10-13.csv')"
   ]
  },
  {
   "cell_type": "code",
   "execution_count": 216,
   "metadata": {},
   "outputs": [
    {
     "name": "stdout",
     "output_type": "stream",
     "text": [
      "<class 'pandas.core.frame.DataFrame'>\n",
      "RangeIndex: 776 entries, 0 to 775\n",
      "Data columns (total 7 columns):\n",
      "fecha    776 non-null object\n",
      "prec     776 non-null float64\n",
      "temt     776 non-null float64\n",
      "dirv     776 non-null float64\n",
      "velv     776 non-null float64\n",
      "radg     776 non-null float64\n",
      "humr     776 non-null float64\n",
      "dtypes: float64(6), object(1)\n",
      "memory usage: 42.5+ KB\n"
     ]
    }
   ],
   "source": [
    "dt.info()"
   ]
  },
  {
   "cell_type": "code",
   "execution_count": 217,
   "metadata": {},
   "outputs": [
    {
     "data": {
      "text/html": [
       "<div>\n",
       "<style scoped>\n",
       "    .dataframe tbody tr th:only-of-type {\n",
       "        vertical-align: middle;\n",
       "    }\n",
       "\n",
       "    .dataframe tbody tr th {\n",
       "        vertical-align: top;\n",
       "    }\n",
       "\n",
       "    .dataframe thead th {\n",
       "        text-align: right;\n",
       "    }\n",
       "</style>\n",
       "<table border=\"1\" class=\"dataframe\">\n",
       "  <thead>\n",
       "    <tr style=\"text-align: right;\">\n",
       "      <th></th>\n",
       "      <th>fecha</th>\n",
       "      <th>prec</th>\n",
       "      <th>temt</th>\n",
       "      <th>dirv</th>\n",
       "      <th>velv</th>\n",
       "      <th>radg</th>\n",
       "      <th>humr</th>\n",
       "    </tr>\n",
       "  </thead>\n",
       "  <tbody>\n",
       "    <tr>\n",
       "      <th>0</th>\n",
       "      <td>2019-10-06 00:00:00</td>\n",
       "      <td>0.0</td>\n",
       "      <td>16.8</td>\n",
       "      <td>311.8</td>\n",
       "      <td>3.0</td>\n",
       "      <td>0.0</td>\n",
       "      <td>74.0</td>\n",
       "    </tr>\n",
       "    <tr>\n",
       "      <th>1</th>\n",
       "      <td>2019-10-06 00:15:00</td>\n",
       "      <td>0.0</td>\n",
       "      <td>16.9</td>\n",
       "      <td>297.8</td>\n",
       "      <td>0.1</td>\n",
       "      <td>0.0</td>\n",
       "      <td>73.0</td>\n",
       "    </tr>\n",
       "    <tr>\n",
       "      <th>2</th>\n",
       "      <td>2019-10-06 00:30:00</td>\n",
       "      <td>0.0</td>\n",
       "      <td>17.1</td>\n",
       "      <td>21.1</td>\n",
       "      <td>2.2</td>\n",
       "      <td>0.0</td>\n",
       "      <td>69.0</td>\n",
       "    </tr>\n",
       "    <tr>\n",
       "      <th>3</th>\n",
       "      <td>2019-10-06 00:45:00</td>\n",
       "      <td>0.0</td>\n",
       "      <td>16.3</td>\n",
       "      <td>339.9</td>\n",
       "      <td>2.7</td>\n",
       "      <td>0.0</td>\n",
       "      <td>76.0</td>\n",
       "    </tr>\n",
       "    <tr>\n",
       "      <th>4</th>\n",
       "      <td>2019-10-06 01:00:00</td>\n",
       "      <td>0.0</td>\n",
       "      <td>15.7</td>\n",
       "      <td>8.6</td>\n",
       "      <td>1.5</td>\n",
       "      <td>0.0</td>\n",
       "      <td>80.0</td>\n",
       "    </tr>\n",
       "  </tbody>\n",
       "</table>\n",
       "</div>"
      ],
      "text/plain": [
       "                 fecha  prec  temt   dirv  velv  radg  humr\n",
       "0  2019-10-06 00:00:00   0.0  16.8  311.8   3.0   0.0  74.0\n",
       "1  2019-10-06 00:15:00   0.0  16.9  297.8   0.1   0.0  73.0\n",
       "2  2019-10-06 00:30:00   0.0  17.1   21.1   2.2   0.0  69.0\n",
       "3  2019-10-06 00:45:00   0.0  16.3  339.9   2.7   0.0  76.0\n",
       "4  2019-10-06 01:00:00   0.0  15.7    8.6   1.5   0.0  80.0"
      ]
     },
     "execution_count": 217,
     "metadata": {},
     "output_type": "execute_result"
    }
   ],
   "source": [
    "dt.head()"
   ]
  },
  {
   "cell_type": "code",
   "execution_count": 218,
   "metadata": {},
   "outputs": [],
   "source": [
    "from matplotlib.pyplot import plot,show,xlim,xticks\n",
    "import numpy as np"
   ]
  },
  {
   "cell_type": "code",
   "execution_count": 225,
   "metadata": {},
   "outputs": [
    {
     "data": {
      "image/png": "[encoded data removed]",
      "text/plain": [
       "<Figure size 432x288 with 1 Axes>"
      ]
     },
     "metadata": {
      "needs_background": "light"
     },
     "output_type": "display_data"
    }
   ],
   "source": [
    "plot(dt['fecha'],dt['temt'])\n",
    "#xlim(1,100)\n",
    "xticks(rotation=90)\n",
    "xticks(np.arange(0,800,50))\n",
    "show()"
   ]
  },
  {
   "cell_type": "code",
   "execution_count": 227,
   "metadata": {},
   "outputs": [],
   "source": [
    "import requests\n",
    "r=requests.get('http://clima.inifap.gob.mx/cenid/api/Estacion?')"
   ]
  },
  {
   "cell_type": "code",
   "execution_count": 229,
   "metadata": {},
   "outputs": [
    {
     "data": {
      "text/plain": [
       "200"
      ]
     },
     "execution_count": 229,
     "metadata": {},
     "output_type": "execute_result"
    }
   ],
   "source": [
    "r.status_code"
   ]
  },
  {
   "cell_type": "code",
   "execution_count": 230,
   "metadata": {},
   "outputs": [],
   "source": [
    "dic=r.json()"
   ]
  },
  {
   "cell_type": "code",
   "execution_count": 231,
   "metadata": {},
   "outputs": [
    {
     "data": {
      "text/plain": [
       "{'estados': [{'Indice': 1, 'Nombre': 'Aguascalientes'},\n",
       "  {'Indice': 2, 'Nombre': 'Baja California'},\n",
       "  {'Indice': 3, 'Nombre': 'Baja California Sur'},\n",
       "  {'Indice': 4, 'Nombre': 'Campeche'},\n",
       "  {'Indice': 5, 'Nombre': 'Coahuila'},\n",
       "  {'Indice': 6, 'Nombre': 'Colima'},\n",
       "  {'Indice': 7, 'Nombre': 'Chiapas'},\n",
       "  {'Indice': 8, 'Nombre': 'Chihuahua'},\n",
       "  {'Indice': 9, 'Nombre': 'Durango'},\n",
       "  {'Indice': 10, 'Nombre': 'Estado de México'},\n",
       "  {'Indice': 11, 'Nombre': 'Guanajuato'},\n",
       "  {'Indice': 12, 'Nombre': 'Guerrero'},\n",
       "  {'Indice': 13, 'Nombre': 'Hidalgo'},\n",
       "  {'Indice': 14, 'Nombre': 'Jalisco'},\n",
       "  {'Indice': 15, 'Nombre': 'Michoacán'},\n",
       "  {'Indice': 16, 'Nombre': 'Morelos'},\n",
       "  {'Indice': 17, 'Nombre': 'Nayarit'},\n",
       "  {'Indice': 18, 'Nombre': 'Nuevo León'},\n",
       "  {'Indice': 19, 'Nombre': 'Oaxaca'},\n",
       "  {'Indice': 20, 'Nombre': 'Puebla'},\n",
       "  {'Indice': 21, 'Nombre': 'Querétaro'},\n",
       "  {'Indice': 22, 'Nombre': 'Quintana Roo'},\n",
       "  {'Indice': 23, 'Nombre': 'San Luis Potosí'},\n",
       "  {'Indice': 24, 'Nombre': 'Sinaloa'},\n",
       "  {'Indice': 25, 'Nombre': 'Sonora'},\n",
       "  {'Indice': 26, 'Nombre': 'Tabasco'},\n",
       "  {'Indice': 27, 'Nombre': 'Tamaulipas'},\n",
       "  {'Indice': 28, 'Nombre': 'Tlaxcala'},\n",
       "  {'Indice': 29, 'Nombre': 'Veracruz'},\n",
       "  {'Indice': 30, 'Nombre': 'Yucatán'},\n",
       "  {'Indice': 31, 'Nombre': 'Zacatecas'},\n",
       "  {'Indice': 32, 'Nombre': 'Distrito Federal'}]}"
      ]
     },
     "execution_count": 231,
     "metadata": {},
     "output_type": "execute_result"
    }
   ],
   "source": [
    "dic"
   ]
  },
  {
   "cell_type": "code",
   "execution_count": 233,
   "metadata": {},
   "outputs": [
    {
     "data": {
      "text/plain": [
       "'Quintana Roo'"
      ]
     },
     "execution_count": 233,
     "metadata": {},
     "output_type": "execute_result"
    }
   ],
   "source": [
    "dic['estados'][21]['Nombre']"
   ]
  },
  {
   "cell_type": "code",
   "execution_count": null,
   "metadata": {},
   "outputs": [],
   "source": []
  }
 ],
 "metadata": {
  "kernelspec": {
   "display_name": "Python 3",
   "language": "python",
   "name": "python3"
  },
  "language_info": {
   "codemirror_mode": {
    "name": "ipython",
    "version": 3
   },
   "file_extension": ".py",
   "mimetype": "text/x-python",
   "name": "python",
   "nbconvert_exporter": "python",
   "pygments_lexer": "ipython3",
   "version": "3.7.3"
  }
 },
 "nbformat": 4,
 "nbformat_minor": 2
}
