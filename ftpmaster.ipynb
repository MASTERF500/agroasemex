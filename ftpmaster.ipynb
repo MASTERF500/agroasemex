{
 "cells": [
  {
   "cell_type": "code",
   "execution_count": 34,
   "metadata": {},
   "outputs": [],
   "source": [
    "from ftplib import FTP\n",
    "import pandas as pd\n",
    "from matplotlib.pyplot import plot,show,xlim,xticks\n",
    "import numpy as np"
   ]
  },
  {
   "cell_type": "code",
   "execution_count": 5,
   "metadata": {},
   "outputs": [
    {
     "name": "stdout",
     "output_type": "stream",
     "text": [
      "-rw-r--r-- 1 ftp ftp          37496 Oct 14 01:59 Don_primo_2019-10-13.csv\n",
      "-rw-r--r-- 1 ftp ftp          37594 Oct 21 02:00 Don_primo_2019-10-20.csv\n",
      "-rw-r--r-- 1 ftp ftp          40419 Oct 23 17:27 Don_primo_2019-10-22.csv\n",
      "-rw-r--r-- 1 ftp ftp          37689 Oct 14 01:59 Santa_Teresa_2019-10-13.csv\n",
      "-rw-r--r-- 1 ftp ftp          37756 Oct 21 02:00 Santa_Teresa_2019-10-20.csv\n"
     ]
    }
   ],
   "source": [
    "ftp=FTP('clima.inifap.gob.mx')\n",
    "ftp.login('talleragroasemex','agroasemex5.')\n",
    "ftp.dir()"
   ]
  },
  {
   "cell_type": "code",
   "execution_count": 6,
   "metadata": {},
   "outputs": [],
   "source": [
    "#ftp.cwd('nom_carpeta')\n",
    "with open('Don_primo_2019-10-13.csv','wb') as i:\n",
    "    ftp.retrbinary('RETR Don_primo_2019-10-13.csv',i.write)"
   ]
  },
  {
   "cell_type": "code",
   "execution_count": 7,
   "metadata": {},
   "outputs": [
    {
     "data": {
      "text/plain": [
       "'221 Goodbye'"
      ]
     },
     "execution_count": 7,
     "metadata": {},
     "output_type": "execute_result"
    }
   ],
   "source": [
    "ftp.quit()"
   ]
  },
  {
   "cell_type": "code",
   "execution_count": 29,
   "metadata": {},
   "outputs": [],
   "source": [
    "df=pd.read_csv('Don_primo_2019-10-13.csv')"
   ]
  },
  {
   "cell_type": "code",
   "execution_count": 30,
   "metadata": {},
   "outputs": [
    {
     "data": {
      "text/html": [
       "<div>\n",
       "<style scoped>\n",
       "    .dataframe tbody tr th:only-of-type {\n",
       "        vertical-align: middle;\n",
       "    }\n",
       "\n",
       "    .dataframe tbody tr th {\n",
       "        vertical-align: top;\n",
       "    }\n",
       "\n",
       "    .dataframe thead th {\n",
       "        text-align: right;\n",
       "    }\n",
       "</style>\n",
       "<table border=\"1\" class=\"dataframe\">\n",
       "  <thead>\n",
       "    <tr style=\"text-align: right;\">\n",
       "      <th></th>\n",
       "      <th>fecha</th>\n",
       "      <th>prec</th>\n",
       "      <th>temt</th>\n",
       "      <th>dirv</th>\n",
       "      <th>velv</th>\n",
       "      <th>radg</th>\n",
       "      <th>humr</th>\n",
       "    </tr>\n",
       "  </thead>\n",
       "  <tbody>\n",
       "    <tr>\n",
       "      <th>0</th>\n",
       "      <td>2019-10-06 00:00:00</td>\n",
       "      <td>0.0</td>\n",
       "      <td>20.0</td>\n",
       "      <td>83.6</td>\n",
       "      <td>5.2</td>\n",
       "      <td>0.0</td>\n",
       "      <td>53.0</td>\n",
       "    </tr>\n",
       "    <tr>\n",
       "      <th>1</th>\n",
       "      <td>2019-10-06 00:15:00</td>\n",
       "      <td>0.0</td>\n",
       "      <td>19.6</td>\n",
       "      <td>251.3</td>\n",
       "      <td>3.4</td>\n",
       "      <td>0.0</td>\n",
       "      <td>55.0</td>\n",
       "    </tr>\n",
       "    <tr>\n",
       "      <th>2</th>\n",
       "      <td>2019-10-06 00:30:00</td>\n",
       "      <td>0.0</td>\n",
       "      <td>18.5</td>\n",
       "      <td>233.7</td>\n",
       "      <td>2.4</td>\n",
       "      <td>0.0</td>\n",
       "      <td>60.0</td>\n",
       "    </tr>\n",
       "    <tr>\n",
       "      <th>3</th>\n",
       "      <td>2019-10-06 00:45:00</td>\n",
       "      <td>0.0</td>\n",
       "      <td>19.2</td>\n",
       "      <td>112.4</td>\n",
       "      <td>5.0</td>\n",
       "      <td>0.0</td>\n",
       "      <td>56.0</td>\n",
       "    </tr>\n",
       "    <tr>\n",
       "      <th>4</th>\n",
       "      <td>2019-10-06 01:00:00</td>\n",
       "      <td>0.0</td>\n",
       "      <td>19.2</td>\n",
       "      <td>101.9</td>\n",
       "      <td>4.9</td>\n",
       "      <td>0.0</td>\n",
       "      <td>57.0</td>\n",
       "    </tr>\n",
       "  </tbody>\n",
       "</table>\n",
       "</div>"
      ],
      "text/plain": [
       "                 fecha  prec  temt   dirv  velv  radg  humr\n",
       "0  2019-10-06 00:00:00   0.0  20.0   83.6   5.2   0.0  53.0\n",
       "1  2019-10-06 00:15:00   0.0  19.6  251.3   3.4   0.0  55.0\n",
       "2  2019-10-06 00:30:00   0.0  18.5  233.7   2.4   0.0  60.0\n",
       "3  2019-10-06 00:45:00   0.0  19.2  112.4   5.0   0.0  56.0\n",
       "4  2019-10-06 01:00:00   0.0  19.2  101.9   4.9   0.0  57.0"
      ]
     },
     "execution_count": 30,
     "metadata": {},
     "output_type": "execute_result"
    }
   ],
   "source": [
    "df.head()"
   ]
  },
  {
   "cell_type": "code",
   "execution_count": 38,
   "metadata": {},
   "outputs": [
    {
     "data": {
      "image/png": "[encoded data removed]",
      "text/plain": [
       "<Figure size 432x288 with 1 Axes>"
      ]
     },
     "metadata": {
      "needs_background": "light"
     },
     "output_type": "display_data"
    }
   ],
   "source": [
    "plot(df['fecha'],df['temt'])\n",
    "xlim(1,100)\n",
    "xticks(rotation=90)\n",
    "xticks(np.arange(0, 700, 50))\n",
    "show()"
   ]
  },
  {
   "cell_type": "code",
   "execution_count": null,
   "metadata": {},
   "outputs": [],
   "source": []
  }
 ],
 "metadata": {
  "kernelspec": {
   "display_name": "Python 3",
   "language": "python",
   "name": "python3"
  },
  "language_info": {
   "codemirror_mode": {
    "name": "ipython",
    "version": 3
   },
   "file_extension": ".py",
   "mimetype": "text/x-python",
   "name": "python",
   "nbconvert_exporter": "python",
   "pygments_lexer": "ipython3",
   "version": "3.7.3"
  }
 },
 "nbformat": 4,
 "nbformat_minor": 2
}
